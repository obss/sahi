{
 "cells": [
  {
   "cell_type": "markdown",
   "metadata": {},
   "source": [
    "## 0. Preperation"
   ]
  },
  {
   "cell_type": "markdown",
   "metadata": {},
   "source": [
    "- Install latest version of SAHI and detrex:"
   ]
  },
  {
   "cell_type": "code",
   "execution_count": null,
   "metadata": {},
   "outputs": [],
   "source": [
    "!pip install -U sahi\n",
    "!pip install detectron2\n",
    "!pip install -e . detrex"
   ]
  },
  {
   "cell_type": "code",
   "execution_count": null,
   "metadata": {},
   "outputs": [],
   "source": [
    "cp -r detrex/demo detrex/detrex "
   ]
  },
  {
   "cell_type": "code",
   "execution_count": null,
   "metadata": {},
   "outputs": [],
   "source": [
    "import os\n",
    "os.getcwd()"
   ]
  },
  {
   "cell_type": "markdown",
   "metadata": {},
   "source": [
    "- Import required modules:"
   ]
  },
  {
   "cell_type": "code",
   "execution_count": null,
   "metadata": {
    "colab": {
     "base_uri": "https://localhost:8080/",
     "height": 35
    },
    "executionInfo": {
     "elapsed": 9,
     "status": "ok",
     "timestamp": 1641126383492,
     "user": {
      "displayName": "Kadir Nar",
      "photoUrl": "https://lh3.googleusercontent.com/a/default-user=s64",
      "userId": "07662628698708789801"
     },
     "user_tz": -180
    },
    "id": "R7nVa7qO1mxt",
    "outputId": "fbdeaf6d-d21c-463d-9a56-2dea35c75449",
    "tags": []
   },
   "outputs": [],
   "source": [
    "from detrex.demo.predictors import DefaultPredictor\n",
    "from sahi.utils.detectron2 import Detectron2TestConstants\n",
    "from sahi.utils.detectron2 import export_cfg_as_yaml\n",
    "from sahi import AutoDetectionModel\n",
    "from sahi.predict import get_sliced_prediction, predict, get_prediction\n",
    "from sahi.utils.file import download_from_url\n",
    "from sahi.utils.cv import read_image\n",
    "from IPython.display import Image\n",
    "from detectron2.config import LazyConfig, instantiate"
   ]
  },
  {
   "cell_type": "code",
   "execution_count": null,
   "metadata": {},
   "outputs": [],
   "source": [
    "model_path = \"/home/detrex/dino_r50_4scale_12ep.pth\"\n",
    "config_path = \"/home/detrex/projects/dino/configs/dino-resnet/dino_r50_4scale_12ep.py\""
   ]
  },
  {
   "cell_type": "markdown",
   "metadata": {},
   "source": [
    "## 1. Standard Inference with a Detectron2 Model"
   ]
  },
  {
   "cell_type": "markdown",
   "metadata": {},
   "source": [
    "- Instantiate a detection model by defining model weight path, confing path and other parameters:"
   ]
  },
  {
   "cell_type": "code",
   "execution_count": null,
   "metadata": {
    "executionInfo": {
     "elapsed": 6910,
     "status": "ok",
     "timestamp": 1641126391584,
     "user": {
      "displayName": "Kadir Nar",
      "photoUrl": "https://lh3.googleusercontent.com/a/default-user=s64",
      "userId": "07662628698708789801"
     },
     "user_tz": -180
    },
    "id": "BBoEMYfqz5__",
    "tags": []
   },
   "outputs": [],
   "source": [
    "detection_model = AutoDetectionModel.from_pretrained(\n",
    "    model_type='detrex',\n",
    "    model_path=model_path,\n",
    "    config_path=config_path,\n",
    "    confidence_threshold=0.5,\n",
    "    image_size=640,\n",
    "    # device='cuda:0',\n",
    ")"
   ]
  },
  {
   "cell_type": "markdown",
   "metadata": {},
   "source": [
    "- Perform prediction by feeding the get_prediction function with an image path and a DetectionModel instance:"
   ]
  },
  {
   "cell_type": "code",
   "execution_count": null,
   "metadata": {
    "executionInfo": {
     "elapsed": 623,
     "status": "ok",
     "timestamp": 1641126392204,
     "user": {
      "displayName": "Kadir Nar",
      "photoUrl": "https://lh3.googleusercontent.com/a/default-user=s64",
      "userId": "07662628698708789801"
     },
     "user_tz": -180
    },
    "id": "wNpMx3Au0rgO",
    "tags": []
   },
   "outputs": [],
   "source": [
    "result = get_prediction(\"demo_data/small-vehicles1.jpeg\", detection_model)"
   ]
  },
  {
   "cell_type": "markdown",
   "metadata": {},
   "source": [
    "- Visualize predicted bounding boxes and masks over the original image:"
   ]
  },
  {
   "cell_type": "code",
   "execution_count": null,
   "metadata": {
    "tags": []
   },
   "outputs": [],
   "source": [
    "result.export_visuals(export_dir=\"demo_data/\")\n",
    "\n",
    "Image(\"demo_data/prediction_visual.png\")"
   ]
  },
  {
   "cell_type": "markdown",
   "metadata": {
    "id": "l9Y2kCRz6Y74"
   },
   "source": [
    "## 2. Sliced Inference with a Detrex Model"
   ]
  },
  {
   "cell_type": "markdown",
   "metadata": {
    "id": "gPsuXa_R6gKl"
   },
   "source": [
    "- To perform sliced prediction we need to specify slice parameters. In this example we will perform prediction over slices of 256x256 with an overlap ratio of 0.2:"
   ]
  },
  {
   "cell_type": "code",
   "execution_count": null,
   "metadata": {
    "colab": {
     "base_uri": "https://localhost:8080/"
    },
    "executionInfo": {
     "elapsed": 62602,
     "status": "ok",
     "timestamp": 1641126548759,
     "user": {
      "displayName": "Kadir Nar",
      "photoUrl": "https://lh3.googleusercontent.com/a/default-user=s64",
      "userId": "07662628698708789801"
     },
     "user_tz": -180
    },
    "id": "BM6uCgAS6Ze4",
    "outputId": "a703b758-0141-4ac7-f7b2-0804f7b10070",
    "tags": []
   },
   "outputs": [],
   "source": [
    "result = get_sliced_prediction(\n",
    "    \"demo_data/small-vehicles1.jpeg\",\n",
    "    detection_model,\n",
    "    slice_height = 256,\n",
    "    slice_width = 256,\n",
    "    overlap_height_ratio = 0.2,\n",
    "    overlap_width_ratio = 0.2,\n",
    ")"
   ]
  },
  {
   "cell_type": "markdown",
   "metadata": {
    "id": "c7_m_yLg6lcX"
   },
   "source": [
    "- Visualize predicted bounding boxes and masks over the original image:"
   ]
  },
  {
   "cell_type": "code",
   "execution_count": null,
   "metadata": {
    "colab": {
     "base_uri": "https://localhost:8080/",
     "height": 597
    },
    "executionInfo": {
     "elapsed": 1415,
     "status": "ok",
     "timestamp": 1641126550133,
     "user": {
      "displayName": "Kadir Nar",
      "photoUrl": "https://lh3.googleusercontent.com/a/default-user=s64",
      "userId": "07662628698708789801"
     },
     "user_tz": -180
    },
    "id": "6_4jAaVA6Zh1",
    "outputId": "437da6de-ce56-40f9-b918-73d3b42ff42f",
    "tags": []
   },
   "outputs": [],
   "source": [
    "result.export_visuals(export_dir=\"demo_data/\")\n",
    "\n",
    "Image(\"demo_data/prediction_visual.png\")"
   ]
  },
  {
   "cell_type": "markdown",
   "metadata": {
    "id": "gwn78AeP6rVK"
   },
   "source": [
    "## 3. Prediction Result"
   ]
  },
  {
   "cell_type": "markdown",
   "metadata": {
    "id": "-BG-je0V6uCn"
   },
   "source": [
    "- Predictions are returned as [sahi.prediction.PredictionResult](sahi/prediction.py), you can access the object prediction list as:"
   ]
  },
  {
   "cell_type": "code",
   "execution_count": null,
   "metadata": {
    "executionInfo": {
     "elapsed": 14,
     "status": "ok",
     "timestamp": 1641126550134,
     "user": {
      "displayName": "Kadir Nar",
      "photoUrl": "https://lh3.googleusercontent.com/a/default-user=s64",
      "userId": "07662628698708789801"
     },
     "user_tz": -180
    },
    "id": "T4mpkIu66ZkQ",
    "tags": []
   },
   "outputs": [],
   "source": [
    "object_prediction_list = result.object_prediction_list"
   ]
  },
  {
   "cell_type": "code",
   "execution_count": null,
   "metadata": {
    "colab": {
     "base_uri": "https://localhost:8080/"
    },
    "executionInfo": {
     "elapsed": 14,
     "status": "ok",
     "timestamp": 1641126550135,
     "user": {
      "displayName": "Kadir Nar",
      "photoUrl": "https://lh3.googleusercontent.com/a/default-user=s64",
      "userId": "07662628698708789801"
     },
     "user_tz": -180
    },
    "id": "2gjXS1FY6Zm4",
    "outputId": "3d6ac27e-61a4-44d4-c03b-a25fce54b513",
    "tags": []
   },
   "outputs": [],
   "source": [
    "object_prediction_list[0]"
   ]
  },
  {
   "cell_type": "code",
   "execution_count": null,
   "metadata": {
    "colab": {
     "base_uri": "https://localhost:8080/"
    },
    "executionInfo": {
     "elapsed": 11,
     "status": "ok",
     "timestamp": 1641126550135,
     "user": {
      "displayName": "Kadir Nar",
      "photoUrl": "https://lh3.googleusercontent.com/a/default-user=s64",
      "userId": "07662628698708789801"
     },
     "user_tz": -180
    },
    "id": "61sUXOyZ6Zp1",
    "outputId": "98951632-198c-4760-bbbd-19ff3eb3be65",
    "tags": []
   },
   "outputs": [],
   "source": [
    "result.to_coco_annotations()[:3]"
   ]
  },
  {
   "cell_type": "markdown",
   "metadata": {
    "id": "5m0qwYsi62IP"
   },
   "source": [
    "- ObjectPrediction's can be converted to [COCO prediction](https://github.com/i008/COCO-dataset-explorer) format:"
   ]
  },
  {
   "cell_type": "code",
   "execution_count": null,
   "metadata": {
    "colab": {
     "base_uri": "https://localhost:8080/"
    },
    "executionInfo": {
     "elapsed": 10,
     "status": "ok",
     "timestamp": 1641126550136,
     "user": {
      "displayName": "Kadir Nar",
      "photoUrl": "https://lh3.googleusercontent.com/a/default-user=s64",
      "userId": "07662628698708789801"
     },
     "user_tz": -180
    },
    "id": "zAd4LSSD6Zru",
    "outputId": "6febaa22-e18e-4373-b469-a74365523f2e",
    "tags": []
   },
   "outputs": [],
   "source": [
    "result.to_coco_predictions(image_id=1)[:3]"
   ]
  },
  {
   "cell_type": "markdown",
   "metadata": {
    "id": "xGb-9dXI67HQ"
   },
   "source": [
    "- ObjectPrediction's can be converted to [imantics](https://github.com/jsbroks/imantics) annotation format:"
   ]
  },
  {
   "cell_type": "code",
   "execution_count": null,
   "metadata": {
    "colab": {
     "base_uri": "https://localhost:8080/"
    },
    "executionInfo": {
     "elapsed": 3650,
     "status": "ok",
     "timestamp": 1641126553778,
     "user": {
      "displayName": "Kadir Nar",
      "photoUrl": "https://lh3.googleusercontent.com/a/default-user=s64",
      "userId": "07662628698708789801"
     },
     "user_tz": -180
    },
    "id": "MQ7JQ4bgoYNl",
    "outputId": "fad594c9-6f5c-48ae-8be9-fc82c941ca1d",
    "tags": []
   },
   "outputs": [],
   "source": [
    "!pip install -U imantics"
   ]
  },
  {
   "cell_type": "code",
   "execution_count": null,
   "metadata": {
    "colab": {
     "base_uri": "https://localhost:8080/"
    },
    "executionInfo": {
     "elapsed": 382,
     "status": "ok",
     "timestamp": 1641126554125,
     "user": {
      "displayName": "Kadir Nar",
      "photoUrl": "https://lh3.googleusercontent.com/a/default-user=s64",
      "userId": "07662628698708789801"
     },
     "user_tz": -180
    },
    "id": "rTlV67X9Zj45",
    "outputId": "e0374f79-7767-4a7c-fc5a-6e7dca56d220",
    "tags": []
   },
   "outputs": [],
   "source": [
    "result.to_imantics_annotations()[:3]"
   ]
  },
  {
   "cell_type": "markdown",
   "metadata": {
    "id": "-KK4q7Zf7F3c"
   },
   "source": [
    "## 4. Batch Prediction"
   ]
  },
  {
   "cell_type": "markdown",
   "metadata": {
    "id": "lutzXDol7JR3"
   },
   "source": [
    "- Set model and directory parameters:"
   ]
  },
  {
   "cell_type": "code",
   "execution_count": null,
   "metadata": {
    "executionInfo": {
     "elapsed": 7,
     "status": "ok",
     "timestamp": 1641126554126,
     "user": {
      "displayName": "Kadir Nar",
      "photoUrl": "https://lh3.googleusercontent.com/a/default-user=s64",
      "userId": "07662628698708789801"
     },
     "user_tz": -180
    },
    "id": "8GnpnE7B6Zzg",
    "tags": []
   },
   "outputs": [],
   "source": [
    "model_device = \"cuda:0\" \n",
    "model_confidence_threshold = 0.5\n",
    "\n",
    "slice_height = 480\n",
    "slice_width = 480\n",
    "overlap_height_ratio = 0.2\n",
    "overlap_width_ratio = 0.2\n",
    "\n",
    "source_image_dir = \"demo_data/\"\n",
    "\n",
    "model_type='detrex'\n",
    "model_path = \"/home/detrex/dino_r50_4scale_12ep.pth\"\n",
    "config_path = \"/home/detrex/projects/dino/configs/dino-resnet/dino_r50_4scale_12ep.py\"\n",
    "\n",
    "detection_model = AutoDetectionModel.from_pretrained(\n",
    "    model_type='detrex',\n",
    "    model_path=model_path,\n",
    "    config_path=config_path,\n",
    "    confidence_threshold=0.5,\n",
    "    image_size=640,\n",
    "    # device='cuda:0',\n",
    ")"
   ]
  },
  {
   "cell_type": "markdown",
   "metadata": {
    "id": "i0IkBNbh7NZv"
   },
   "source": [
    "- Perform sliced inference on given folder:"
   ]
  },
  {
   "cell_type": "code",
   "execution_count": null,
   "metadata": {
    "tags": []
   },
   "outputs": [],
   "source": [
    "predict(\n",
    "    detection_model = detection_model,\n",
    "    # model_type=model_type,\n",
    "    # model_path=model_path,\n",
    "    # model_config_path=config_path,\n",
    "    model_device=model_device,\n",
    "    model_confidence_threshold=model_confidence_threshold,\n",
    "    source=source_image_dir,\n",
    "    slice_height=slice_height,\n",
    "    slice_width=slice_width,\n",
    "    overlap_height_ratio=0.2,\n",
    "    overlap_width_ratio=0.2,\n",
    ")"
   ]
  },
  {
   "cell_type": "code",
   "execution_count": null,
   "metadata": {
    "colab": {
     "base_uri": "https://localhost:8080/"
    },
    "executionInfo": {
     "elapsed": 300165,
     "status": "ok",
     "timestamp": 1641126854285,
     "user": {
      "displayName": "Kadir Nar",
      "photoUrl": "https://lh3.googleusercontent.com/a/default-user=s64",
      "userId": "07662628698708789801"
     },
     "user_tz": -180
    },
    "id": "27aYnvYk7HCv",
    "outputId": "256cd514-10e5-4a2f-b585-8f6f0abf42e4",
    "tags": []
   },
   "outputs": [],
   "source": []
  }
 ],
 "metadata": {
  "accelerator": "GPU",
  "colab": {
   "authorship_tag": "ABX9TyPP16qZESV9m7Wvv1MiLaja",
   "collapsed_sections": [],
   "name": "Detectron2.ipynb",
   "provenance": []
  },
  "kernelspec": {
   "display_name": "Python 3 (ipykernel)",
   "language": "python",
   "name": "python3"
  },
  "language_info": {
   "codemirror_mode": {
    "name": "ipython",
    "version": 3
   },
   "file_extension": ".py",
   "mimetype": "text/x-python",
   "name": "python",
   "nbconvert_exporter": "python",
   "pygments_lexer": "ipython3",
   "version": "3.7.16"
  },
  "vscode": {
   "interpreter": {
    "hash": "f2680c47b11e1b3873482f0b7ab37c9292181f84f7b4413a77eb41d52d22c05d"
   }
  }
 },
 "nbformat": 4,
 "nbformat_minor": 4
}
